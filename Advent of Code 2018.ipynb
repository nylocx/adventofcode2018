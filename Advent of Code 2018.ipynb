{
  "cells": [
    {
      "metadata": {},
      "cell_type": "markdown",
      "source": "# Advent of Code 2018"
    },
    {
      "metadata": {
        "ExecuteTime": {
          "end_time": "2018-12-07T07:19:20.684792Z",
          "start_time": "2018-12-07T07:19:20.681078Z"
        },
        "trusted": true
      },
      "cell_type": "code",
      "source": "import os\nimport re\nimport string\n\nfrom collections import Counter, defaultdict, deque\nfrom datetime import datetime\nfrom itertools import accumulate, chain, combinations, cycle, zip_longest\nimport operator as op\n\nimport networkx as nx\nimport numpy as np\nimport pandas as pd\nimport requests\n\nfrom scipy.spatial.distance import cdist\n\n%matplotlib inline",
      "execution_count": 1,
      "outputs": []
    },
    {
      "metadata": {
        "ExecuteTime": {
          "end_time": "2018-12-07T07:14:44.789656Z",
          "start_time": "2018-12-07T07:14:44.783592Z"
        },
        "trusted": true
      },
      "cell_type": "code",
      "source": "def input_for_day(day):\n    file_name = f\"day{day:0>2}_input\"\n    if os.path.exists(file_name):\n        return os.path.abspath(file_name)\n    with open(\"session\", \"r\") as session_file:\n        response = requests.get(f\"https://adventofcode.com/2018/day/{day}/input\",\n                                cookies={\"session\": session_file.read()})\n    with open(file_name, \"w\") as input_file:\n        print(response.text.strip(), file=input_file)\n    return os.path.abspath(file_name)",
      "execution_count": 2,
      "outputs": []
    },
    {
      "metadata": {},
      "cell_type": "markdown",
      "source": "## Day 1\n### Part One\nStarting with a frequency of zero, what is the resulting frequency after all of the changes in frequency have been applied?"
    },
    {
      "metadata": {
        "ExecuteTime": {
          "end_time": "2018-12-07T07:15:06.606814Z",
          "start_time": "2018-12-07T07:15:06.601101Z"
        },
        "trusted": true
      },
      "cell_type": "code",
      "source": "%time\nwith open(input_for_day(1), \"r\") as input_file:\n    print(f'Answer: {sum(map(int, input_file))}')",
      "execution_count": 3,
      "outputs": [
        {
          "output_type": "stream",
          "text": "CPU times: user 2 µs, sys: 1e+03 ns, total: 3 µs\nWall time: 7.63 µs\nAnswer: 538\n",
          "name": "stdout"
        }
      ]
    },
    {
      "metadata": {},
      "cell_type": "markdown",
      "source": "### Part Two\nWhat is the first frequency your device reaches twice?"
    },
    {
      "metadata": {
        "ExecuteTime": {
          "end_time": "2018-12-07T07:16:21.654873Z",
          "start_time": "2018-12-07T07:16:21.622404Z"
        },
        "trusted": true
      },
      "cell_type": "code",
      "source": "%%time\nfreq_set = {0}\nwith open(input_for_day(1), \"r\") as input_file:\n    for freq in accumulate(cycle(int(line) for line in input_file)):\n        if freq in freq_set or freq_set.add(freq):\n            print(f\"Answer: {freq}\")\n            break",
      "execution_count": 4,
      "outputs": [
        {
          "output_type": "stream",
          "text": "Answer: 77271\nCPU times: user 50.4 ms, sys: 131 ms, total: 181 ms\nWall time: 206 ms\n",
          "name": "stdout"
        }
      ]
    },
    {
      "metadata": {},
      "cell_type": "markdown",
      "source": "## Day 2\n### Part One\nWhat is the checksum for your list of box IDs?"
    },
    {
      "metadata": {
        "ExecuteTime": {
          "end_time": "2018-12-07T08:29:17.221428Z",
          "start_time": "2018-12-07T08:29:17.211589Z"
        },
        "trusted": true
      },
      "cell_type": "code",
      "source": "%%time\nwith open(input_for_day(2), \"r\") as input_file:\n    counters = [Counter(n.strip()).values() for n in input_file]\nchecksum = sum(2 in c for c in counters) * sum(3 in c for c in counters)\nprint(f\"Answer: {checksum}\")",
      "execution_count": 5,
      "outputs": [
        {
          "output_type": "stream",
          "text": "Answer: 5976\nCPU times: user 8.86 ms, sys: 0 ns, total: 8.86 ms\nWall time: 87.3 ms\n",
          "name": "stdout"
        }
      ]
    },
    {
      "metadata": {},
      "cell_type": "markdown",
      "source": "### Part Two\nWhat letters are common between the two correct box IDs?"
    },
    {
      "metadata": {
        "ExecuteTime": {
          "end_time": "2018-12-07T08:33:07.567351Z",
          "start_time": "2018-12-07T08:33:07.5611Z"
        },
        "trusted": true
      },
      "cell_type": "code",
      "source": "%%time\nwith open(input_for_day(2), \"r\") as input_file:\n    counters = {x: Counter(x).values() for x in (n.strip() for n in input_file)}\nfor x, y in combinations((n for n, c in counters.items() if any(s in c for s in (2, 3))), 2):\n    if sum(a != b for a, b in zip(x, y)) == 1:\n        print(f\"Answer: {''.join(a for a, b in zip(x, y) if a == b)}\")\n        break",
      "execution_count": 6,
      "outputs": [
        {
          "output_type": "stream",
          "text": "Answer: xretqmmonskvzupalfiwhcfdb\nCPU times: user 23.5 ms, sys: 0 ns, total: 23.5 ms\nWall time: 49 ms\n",
          "name": "stdout"
        }
      ]
    },
    {
      "metadata": {},
      "cell_type": "markdown",
      "source": "## Day 3\n### Part One\nHow many square inches of fabric are within two or more claims?"
    },
    {
      "metadata": {
        "trusted": true
      },
      "cell_type": "code",
      "source": "%%time\nexpr = re.compile(r\"#(\\d+)\\s@\\s(\\d+),(\\d+):\\s(\\d+)x(\\d+)\")\nfabric = np.zeros((1000, 1000), dtype=np.uint32)\nwith open(input_for_day(3), \"r\") as input_file:\n    for claim in input_file:\n        _, x, y, w, h = map(int, expr.match(claim).groups())\n        fabric[y:y+h, x:x+w] += 1\n    print(f\"Answer: {np.sum(fabric > 1)}\")",
      "execution_count": 7,
      "outputs": [
        {
          "output_type": "stream",
          "text": "Answer: 117948\nCPU times: user 1.34 ms, sys: 82.8 ms, total: 84.2 ms\nWall time: 158 ms\n",
          "name": "stdout"
        }
      ]
    },
    {
      "metadata": {},
      "cell_type": "markdown",
      "source": "### Part Two\nWhat is the ID of the only claim that doesn't overlap?"
    },
    {
      "metadata": {
        "trusted": true
      },
      "cell_type": "code",
      "source": "%%time\nexpr = re.compile(r\"#(\\d+)\\s@\\s(\\d+),(\\d+):\\s(\\d+)x(\\d+)\")\nfabric = np.zeros((1000, 1000), dtype=np.uint32)\nwith open(input_for_day(3), \"r\") as input_file:\n    claims = [list(map(int, expr.match(claim).groups())) for claim in input_file]\nfor claim in claims:\n    _, x, y, w, h = claim\n    fabric[y:y+h, x:x+w] += 1\nfor claim in claims:\n    claim_id, x, y, w, h = claim\n    if np.all(fabric[y:y+h, x:x+w] == 1):\n        print(f\"Answer: {claim_id}\")\n        break",
      "execution_count": 8,
      "outputs": [
        {
          "output_type": "stream",
          "text": "Answer: 567\nCPU times: user 10.1 ms, sys: 23.7 ms, total: 33.8 ms\nWall time: 71.6 ms\n",
          "name": "stdout"
        }
      ]
    },
    {
      "metadata": {},
      "cell_type": "markdown",
      "source": "## Day 4\n### Part One\nWhat is the ID of the guard you chose multiplied by the minute you chose?"
    },
    {
      "metadata": {
        "trusted": true
      },
      "cell_type": "code",
      "source": "%%time\nentry_expr = re.compile(r\"\\[(.+)\\]\\s(.*)\")\nguard_expr = re.compile(\"Guard\\s#(\\d+)\")\n\nguards = defaultdict(Counter)\nwith open(input_for_day(4), \"r\") as input_file:\n    lines = (entry_expr.match(entry).groups() for entry in sorted(input_file))\nfor timestamp, event in ((datetime.strptime(t, \"%Y-%m-%d %H:%M\"), e) for t, e in lines):\n    if event.startswith(\"Guard\"):\n        guard = int(guard_expr.match(event).group(1))\n    elif event.startswith(\"falls\"):\n        start = timestamp\n    elif event.startswith(\"wakes\"):\n        duration = int((timestamp - start).total_seconds()) // 60\n        guards[guard].update(Counter(start.minute + i for i in range(duration)))\n\n_, guard = max((sum(c.values()), g) for g, c in guards.items())\n\nprint(f\"Answer: {guard * guards[guard].most_common()[0][0]}\")",
      "execution_count": 9,
      "outputs": [
        {
          "output_type": "stream",
          "text": "Answer: 4716\nCPU times: user 29.7 ms, sys: 6.05 ms, total: 35.8 ms\nWall time: 168 ms\n",
          "name": "stdout"
        }
      ]
    },
    {
      "metadata": {},
      "cell_type": "markdown",
      "source": "### Part Two\nWhat is the ID of the guard you chose multiplied by the minute you chose? "
    },
    {
      "metadata": {
        "trusted": true
      },
      "cell_type": "code",
      "source": "%%time\nentry_expr = re.compile(r\"\\[(.+)\\]\\s(.*)\")\nguard_expr = re.compile(\"Guard\\s#(\\d+)\")\n\nguards = defaultdict(Counter)\nwith open(input_for_day(4), \"r\") as input_file:\n    lines = (entry_expr.match(entry).groups() for entry in sorted(input_file))\nfor timestamp, event in ((datetime.strptime(t, \"%Y-%m-%d %H:%M\"), e) for t, e in lines):\n    if event.startswith(\"Guard\"):\n        guard = int(guard_expr.match(event).group(1))\n    elif event.startswith(\"falls\"):\n        start = timestamp\n    elif event.startswith(\"wakes\"):\n        duration = int((timestamp - start).total_seconds()) // 60\n        guards[guard].update(Counter(start.minute + i for i in range(duration)))\n\n(_, minute), guard = max((c.most_common()[0][::-1], g) for g, c in guards.items())\n\nprint(f\"Answer: {guard * minute}\")",
      "execution_count": 10,
      "outputs": [
        {
          "output_type": "stream",
          "text": "Answer: 117061\nCPU times: user 31.7 ms, sys: 0 ns, total: 31.7 ms\nWall time: 70 ms\n",
          "name": "stdout"
        }
      ]
    },
    {
      "metadata": {},
      "cell_type": "markdown",
      "source": "## Day 5\n### Part One\nHow many units remain after fully reacting the polymer you scanned?"
    },
    {
      "metadata": {
        "trusted": true
      },
      "cell_type": "code",
      "source": "%%time\ndef collapse(s):\n    p = [\"_\"]\n    for u in s:\n        v = p[-1]\n        p.pop() if v != u and v.lower() == u.lower() else p.append(u)\n            \n    return len(p) - 1\n\nwith open(input_for_day(5), \"r\") as input_file:\n    print(f\"Answer: {collapse(input_file.read().strip())}\")",
      "execution_count": 11,
      "outputs": [
        {
          "output_type": "stream",
          "text": "Answer: 11252\nCPU times: user 22.2 ms, sys: 0 ns, total: 22.2 ms\nWall time: 213 ms\n",
          "name": "stdout"
        }
      ]
    },
    {
      "metadata": {},
      "cell_type": "markdown",
      "source": "### Part Two\nWhat is the length of the shortest polymer you can produce by removing all units of exactly one type and fully reacting the result?"
    },
    {
      "metadata": {
        "trusted": true
      },
      "cell_type": "code",
      "source": "%%time\ndef collapse(s):\n    p = [\"_\"]\n    for u in s:\n        v = p[-1]\n        p.pop() if v != u and v.lower() == u.lower() else p.append(u)\n            \n    return len(p) - 1\n\nwith open(input_for_day(5), \"r\") as input_file:\n    data = input_file.read().strip()\nmin_length = min(collapse(s) for s in (data.replace(l, \"\").replace(l.swapcase(), \"\") for l in string.ascii_lowercase))\nprint(f\"Answer: {min_length}\")",
      "execution_count": 12,
      "outputs": [
        {
          "output_type": "stream",
          "text": "Answer: 6118\nCPU times: user 487 ms, sys: 0 ns, total: 487 ms\nWall time: 513 ms\n",
          "name": "stdout"
        }
      ]
    },
    {
      "metadata": {},
      "cell_type": "markdown",
      "source": "## Day 6\n### Part One\nWhat is the size of the largest area that isn't infinite?"
    },
    {
      "metadata": {
        "trusted": true
      },
      "cell_type": "code",
      "source": "%%time\nwith open(input_for_day(6), \"r\") as input_file:\n    points = np.fromiter(chain.from_iterable(map(int, l.strip().split(\",\")) for l in input_file), np.uint).reshape(50, 2)\n\n# Boundaries\ntl = np.min(points, axis=0)\nbr = np.max(points, axis=0) + 1\n\n# Index grid\nxx, yy = np.mgrid[tl[0]:br[0], tl[1]:br[1]]\npositions = np.vstack([xx.ravel(), yy.ravel()]).T\n\n# Manhatten distances\ndists = cdist(positions, points, metric='cityblock')\nmin_dists = np.min(dists, axis=1)\n\n# Mapping to pointts\nindex_array = (min_dists[..., np.newaxis] == dists)\n\n# Non ambigious distances\nnon_ambigious_index = (np.sum(index_array, axis=1) == 1)\nindex_array = index_array[non_ambigious_index]\n\n# Borders to filter infinit regions\nborder_index = np.any(np.vstack([tl, br-1])[:,np.newaxis] == positions, axis=(0, 2))\nborder_index = border_index[non_ambigious_index]\nborder_index = np.any(index_array[border_index], axis=0)\n\n# Compute arrea for all points\narea = np.sum(index_array, axis=0)\n\n# Remove points that areas touch the borders\narea[border_index] = -1\n\nprint(f\"Answer: {np.max(area)}\")",
      "execution_count": 13,
      "outputs": [
        {
          "output_type": "stream",
          "text": "Answer: 4754\nCPU times: user 0 ns, sys: 812 ms, total: 812 ms\nWall time: 1.03 s\n",
          "name": "stdout"
        }
      ]
    },
    {
      "metadata": {},
      "cell_type": "markdown",
      "source": "### Part Two\nWhat is the size of the region containing all locations which have a total distance to all given coordinates of less than 10000?"
    },
    {
      "metadata": {
        "trusted": true
      },
      "cell_type": "code",
      "source": "%%time\nwith open(input_for_day(6), \"r\") as input_file:\n    points = np.fromiter(chain.from_iterable(map(int, l.strip().split(\",\")) for l in input_file), np.uint).reshape(50, 2)\n\n# Boundaries\ntl = np.min(points, axis=0)\nbr = np.max(points, axis=0) + 1\n\n# Index grid\nxx, yy = np.mgrid[tl[0]:br[0], tl[1]:br[1]]\npositions = np.vstack([xx.ravel(), yy.ravel()]).T\n\n# Manhatten distances\ndists = cdist(positions, points, metric='cityblock')\n\nprint(f\"Answer: {np.sum(np.sum(dists, axis=1) < 10000)}\")",
      "execution_count": 14,
      "outputs": [
        {
          "output_type": "stream",
          "text": "Answer: 42344\nCPU times: user 0 ns, sys: 492 ms, total: 492 ms\nWall time: 530 ms\n",
          "name": "stdout"
        }
      ]
    },
    {
      "metadata": {},
      "cell_type": "markdown",
      "source": "## Day 7\n### Part One\nIn what order should the steps in your instructions be completed?"
    },
    {
      "metadata": {
        "trusted": true
      },
      "cell_type": "code",
      "source": "%%time\nG = nx.DiGraph()\nwith open(input_for_day(7), \"r\") as input_file:\n    G.add_edges_from(re.findall(\"\\s(\\w)\\s\", edge) for edge in input_file)\n\nresult = []\nwhile G.nodes:\n    result.append(min(G.in_degree(G.nodes), key=lambda x: (x[1],x[0]))[0])\n    G.remove_node(result[-1])\n\nprint(f\"Answer: {''.join(result)}\")",
      "execution_count": 20,
      "outputs": [
        {
          "output_type": "stream",
          "text": "Answer: JNOIKSYABEQRUVWXGTZFDMHLPC\nCPU times: user 2.76 ms, sys: 2.08 ms, total: 4.84 ms\nWall time: 49.7 ms\n",
          "name": "stdout"
        }
      ]
    },
    {
      "metadata": {},
      "cell_type": "markdown",
      "source": "### Part Two\nWith 5 workers and the 60+ second step durations described above, how long will it take to complete all of the steps?"
    },
    {
      "metadata": {
        "trusted": true
      },
      "cell_type": "code",
      "source": "%%time\nG = nx.DiGraph()\nwith open(input_for_day(7), \"r\") as input_file:\n    G.add_edges_from(re.findall(\"\\s(\\w)\\s\", edge) for edge in input_file)\n\ntick = 0\ntime_left = Counter({n: ord(n) - 4 for n in G.nodes})\nwhile G.nodes:\n    ready_nodes = [x[0] for x in sorted(G.in_degree(G.nodes), key=lambda x: (x[1],x[0])) if x[1] == 0]\n    nodes_changed = False\n    while not nodes_changed:\n        tick = tick + 1\n        for node in ready_nodes[:5]:\n            time_left.subtract(node)\n            if time_left[node] == 0:\n                G.remove_node(node)\n                nodes_changed = True\n\nprint(f\"Answer: {tick}\")",
      "execution_count": 26,
      "outputs": [
        {
          "output_type": "stream",
          "text": "Answer: 1099\nCPU times: user 10.8 ms, sys: 0 ns, total: 10.8 ms\nWall time: 35 ms\n",
          "name": "stdout"
        }
      ]
    }
  ],
  "metadata": {
    "hide_input": false,
    "kernelspec": {
      "name": "python36",
      "display_name": "Python 3.6",
      "language": "python"
    },
    "language_info": {
      "mimetype": "text/x-python",
      "nbconvert_exporter": "python",
      "name": "python",
      "pygments_lexer": "ipython3",
      "version": "3.6.6",
      "file_extension": ".py",
      "codemirror_mode": {
        "version": 3,
        "name": "ipython"
      }
    },
    "toc": {
      "base_numbering": 1,
      "nav_menu": {},
      "number_sections": true,
      "sideBar": true,
      "skip_h1_title": false,
      "title_cell": "Table of Contents",
      "title_sidebar": "Contents",
      "toc_cell": false,
      "toc_position": {},
      "toc_section_display": true,
      "toc_window_display": false
    },
    "varInspector": {
      "cols": {
        "lenName": 16,
        "lenType": 16,
        "lenVar": 40
      },
      "kernels_config": {
        "python": {
          "delete_cmd_postfix": "",
          "delete_cmd_prefix": "del ",
          "library": "var_list.py",
          "varRefreshCmd": "print(var_dic_list())"
        },
        "r": {
          "delete_cmd_postfix": ") ",
          "delete_cmd_prefix": "rm(",
          "library": "var_list.r",
          "varRefreshCmd": "cat(var_dic_list()) "
        }
      },
      "types_to_exclude": [
        "module",
        "function",
        "builtin_function_or_method",
        "instance",
        "_Feature"
      ],
      "window_display": false
    }
  },
  "nbformat": 4,
  "nbformat_minor": 2
}