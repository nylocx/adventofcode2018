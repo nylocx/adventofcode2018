{
  "cells": [
    {
      "metadata": {},
      "cell_type": "markdown",
      "source": "# Advent of Code 2018"
    },
    {
      "metadata": {
        "ExecuteTime": {
          "end_time": "2018-12-07T07:19:20.684792Z",
          "start_time": "2018-12-07T07:19:20.681078Z"
        },
        "trusted": true
      },
      "cell_type": "code",
      "source": "import os\nimport re\nimport string\n\nfrom collections import Counter, defaultdict, deque\nfrom datetime import datetime\nfrom itertools import accumulate, chain, combinations, cycle, zip_longest\nimport operator as op\n\nimport networkx as nx\nimport numpy as np\nimport pandas as pd\nimport requests\n\nfrom scipy.spatial.distance import cdist\n\n%load_ext blackcellmagic\n%matplotlib inline",
      "execution_count": 1,
      "outputs": []
    },
    {
      "metadata": {
        "ExecuteTime": {
          "end_time": "2018-12-07T07:14:44.789656Z",
          "start_time": "2018-12-07T07:14:44.783592Z"
        },
        "trusted": true
      },
      "cell_type": "code",
      "source": "def input_for_day(day):\n    file_name = f\"day{day:0>2}_input\"\n    if os.path.exists(file_name):\n        return os.path.abspath(file_name)\n    with open(\"session\", \"r\") as session_file:\n        response = requests.get(\n            f\"https://adventofcode.com/2018/day/{day}/input\",\n            cookies={\"session\": session_file.read()},\n        )\n    with open(file_name, \"w\") as input_file:\n        print(response.text.strip(), file=input_file)\n    return os.path.abspath(file_name)",
      "execution_count": 2,
      "outputs": []
    },
    {
      "metadata": {},
      "cell_type": "markdown",
      "source": "## Day 1\n### Part One\nStarting with a frequency of zero, what is the resulting frequency after all of the changes in frequency have been applied?"
    },
    {
      "metadata": {
        "ExecuteTime": {
          "end_time": "2018-12-07T07:15:06.606814Z",
          "start_time": "2018-12-07T07:15:06.601101Z"
        },
        "trusted": true
      },
      "cell_type": "code",
      "source": "%%time\nwith open(input_for_day(1), \"r\") as input_file:\n    print(f\"Answer: {sum(map(int, input_file))}\")",
      "execution_count": 3,
      "outputs": [
        {
          "output_type": "stream",
          "text": "Answer: 538\nCPU times: user 1.95 ms, sys: 636 µs, total: 2.58 ms\nWall time: 27.6 ms\n",
          "name": "stdout"
        }
      ]
    },
    {
      "metadata": {},
      "cell_type": "markdown",
      "source": "### Part Two\nWhat is the first frequency your device reaches twice?"
    },
    {
      "metadata": {
        "ExecuteTime": {
          "end_time": "2018-12-07T07:16:21.654873Z",
          "start_time": "2018-12-07T07:16:21.622404Z"
        },
        "trusted": true
      },
      "cell_type": "code",
      "source": "%%time\nfreq_set = {0}\nwith open(input_for_day(1), \"r\") as input_file:\n    for freq in accumulate(cycle(int(line) for line in input_file)):\n        if freq in freq_set or freq_set.add(freq):\n            print(f\"Answer: {freq}\")\n            break",
      "execution_count": 4,
      "outputs": [
        {
          "output_type": "stream",
          "text": "Answer: 77271\nCPU times: user 33.8 ms, sys: 11.3 ms, total: 45.1 ms\nWall time: 58.6 ms\n",
          "name": "stdout"
        }
      ]
    },
    {
      "metadata": {},
      "cell_type": "markdown",
      "source": "## Day 2\n### Part One\nWhat is the checksum for your list of box IDs?"
    },
    {
      "metadata": {
        "ExecuteTime": {
          "end_time": "2018-12-07T08:29:17.221428Z",
          "start_time": "2018-12-07T08:29:17.211589Z"
        },
        "trusted": true
      },
      "cell_type": "code",
      "source": "%%time\nwith open(input_for_day(2), \"r\") as input_file:\n    counters = [Counter(n.strip()).values() for n in input_file]\nchecksum = sum(2 in c for c in counters) * sum(3 in c for c in counters)\nprint(f\"Answer: {checksum}\")",
      "execution_count": 5,
      "outputs": [
        {
          "output_type": "stream",
          "text": "Answer: 5976\nCPU times: user 15 ms, sys: 1.61 ms, total: 16.6 ms\nWall time: 39.8 ms\n",
          "name": "stdout"
        }
      ]
    },
    {
      "metadata": {},
      "cell_type": "markdown",
      "source": "### Part Two\nWhat letters are common between the two correct box IDs?"
    },
    {
      "metadata": {
        "ExecuteTime": {
          "end_time": "2018-12-07T08:33:07.567351Z",
          "start_time": "2018-12-07T08:33:07.5611Z"
        },
        "trusted": true
      },
      "cell_type": "code",
      "source": "%%time\nwith open(input_for_day(2), \"r\") as input_file:\n    counters = {x: Counter(x).values() for x in (n.strip() for n in input_file)}\nfor x, y in combinations(\n    (n for n, c in counters.items() if any(s in c for s in (2, 3))), 2\n):\n    if sum(a != b for a, b in zip(x, y)) == 1:\n        print(f\"Answer: {''.join(a for a, b in zip(x, y) if a == b)}\")\n        break",
      "execution_count": 6,
      "outputs": [
        {
          "output_type": "stream",
          "text": "Answer: xretqmmonskvzupalfiwhcfdb\nCPU times: user 16 ms, sys: 8.75 ms, total: 24.7 ms\nWall time: 41.7 ms\n",
          "name": "stdout"
        }
      ]
    },
    {
      "metadata": {},
      "cell_type": "markdown",
      "source": "## Day 3\n### Part One\nHow many square inches of fabric are within two or more claims?"
    },
    {
      "metadata": {
        "trusted": true
      },
      "cell_type": "code",
      "source": "%%time\nexpr = re.compile(r\"#(\\d+)\\s@\\s(\\d+),(\\d+):\\s(\\d+)x(\\d+)\")\nfabric = np.zeros((1000, 1000), dtype=np.uint32)\nwith open(input_for_day(3), \"r\") as input_file:\n    for claim in input_file:\n        _, x, y, w, h = map(int, expr.match(claim).groups())\n        fabric[y : y + h, x : x + w] += 1\n    print(f\"Answer: {np.sum(fabric > 1)}\")",
      "execution_count": 7,
      "outputs": [
        {
          "output_type": "stream",
          "text": "Answer: 117948\nCPU times: user 19.5 ms, sys: 9.89 ms, total: 29.3 ms\nWall time: 56.7 ms\n",
          "name": "stdout"
        }
      ]
    },
    {
      "metadata": {},
      "cell_type": "markdown",
      "source": "### Part Two\nWhat is the ID of the only claim that doesn't overlap?"
    },
    {
      "metadata": {
        "trusted": true
      },
      "cell_type": "code",
      "source": "%%time\nexpr = re.compile(r\"#(\\d+)\\s@\\s(\\d+),(\\d+):\\s(\\d+)x(\\d+)\")\nfabric = np.zeros((1000, 1000), dtype=np.uint32)\nwith open(input_for_day(3), \"r\") as input_file:\n    claims = [list(map(int, expr.match(claim).groups())) for claim in input_file]\nfor claim in claims:\n    _, x, y, w, h = claim\n    fabric[y : y + h, x : x + w] += 1\nfor claim in claims:\n    claim_id, x, y, w, h = claim\n    if np.all(fabric[y : y + h, x : x + w] == 1):\n        print(f\"Answer: {claim_id}\")\n        break",
      "execution_count": 8,
      "outputs": [
        {
          "output_type": "stream",
          "text": "Answer: 567\nCPU times: user 33.3 ms, sys: 841 µs, total: 34.1 ms\nWall time: 58.5 ms\n",
          "name": "stdout"
        }
      ]
    },
    {
      "metadata": {},
      "cell_type": "markdown",
      "source": "## Day 4\n### Part One\nWhat is the ID of the guard you chose multiplied by the minute you chose?"
    },
    {
      "metadata": {
        "trusted": true
      },
      "cell_type": "code",
      "source": "%%time\nentry_expr = re.compile(r\"\\[(.+)\\]\\s(.*)\")\nguard_expr = re.compile(\"Guard\\s#(\\d+)\")\n\nguards = defaultdict(Counter)\nwith open(input_for_day(4), \"r\") as input_file:\n    lines = (entry_expr.match(entry).groups() for entry in sorted(input_file))\nfor timestamp, event in ((datetime.strptime(t, \"%Y-%m-%d %H:%M\"), e) for t, e in lines):\n    if event.startswith(\"Guard\"):\n        guard = int(guard_expr.match(event).group(1))\n    elif event.startswith(\"falls\"):\n        start = timestamp\n    elif event.startswith(\"wakes\"):\n        duration = int((timestamp - start).total_seconds()) // 60\n        guards[guard].update(Counter(start.minute + i for i in range(duration)))\n\n_, guard = max((sum(c.values()), g) for g, c in guards.items())\n\nprint(f\"Answer: {guard * guards[guard].most_common()[0][0]}\")",
      "execution_count": 9,
      "outputs": [
        {
          "output_type": "stream",
          "text": "Answer: 4716\nCPU times: user 32.7 ms, sys: 640 µs, total: 33.4 ms\nWall time: 65.6 ms\n",
          "name": "stdout"
        }
      ]
    },
    {
      "metadata": {},
      "cell_type": "markdown",
      "source": "### Part Two\nWhat is the ID of the guard you chose multiplied by the minute you chose? "
    },
    {
      "metadata": {
        "trusted": true
      },
      "cell_type": "code",
      "source": "%%time\nentry_expr = re.compile(r\"\\[(.+)\\]\\s(.*)\")\nguard_expr = re.compile(\"Guard\\s#(\\d+)\")\n\nguards = defaultdict(Counter)\nwith open(input_for_day(4), \"r\") as input_file:\n    lines = (entry_expr.match(entry).groups() for entry in sorted(input_file))\nfor timestamp, event in ((datetime.strptime(t, \"%Y-%m-%d %H:%M\"), e) for t, e in lines):\n    if event.startswith(\"Guard\"):\n        guard = int(guard_expr.match(event).group(1))\n    elif event.startswith(\"falls\"):\n        start = timestamp\n    elif event.startswith(\"wakes\"):\n        duration = int((timestamp - start).total_seconds()) // 60\n        guards[guard].update(Counter(start.minute + i for i in range(duration)))\n\n(_, minute), guard = max((c.most_common()[0][::-1], g) for g, c in guards.items())\n\nprint(f\"Answer: {guard * minute}\")",
      "execution_count": 10,
      "outputs": [
        {
          "output_type": "stream",
          "text": "Answer: 117061\nCPU times: user 31.4 ms, sys: 188 µs, total: 31.6 ms\nWall time: 60.5 ms\n",
          "name": "stdout"
        }
      ]
    },
    {
      "metadata": {},
      "cell_type": "markdown",
      "source": "## Day 5\n### Part One\nHow many units remain after fully reacting the polymer you scanned?"
    },
    {
      "metadata": {
        "trusted": true
      },
      "cell_type": "code",
      "source": "%%time\ndef collapse(s):\n    p = [\"_\"]\n    for u in s:\n        v = p[-1]\n        p.pop() if v != u and v.lower() == u.lower() else p.append(u)\n\n    return len(p) - 1\n\n\nwith open(input_for_day(5), \"r\") as input_file:\n    print(f\"Answer: {collapse(input_file.read().strip())}\")",
      "execution_count": 11,
      "outputs": [
        {
          "output_type": "stream",
          "text": "Answer: 11252\nCPU times: user 23.2 ms, sys: 617 µs, total: 23.9 ms\nWall time: 50.9 ms\n",
          "name": "stdout"
        }
      ]
    },
    {
      "metadata": {},
      "cell_type": "markdown",
      "source": "### Part Two\nWhat is the length of the shortest polymer you can produce by removing all units of exactly one type and fully reacting the result?"
    },
    {
      "metadata": {
        "trusted": true
      },
      "cell_type": "code",
      "source": "%%time\ndef collapse(s):\n    p = [\"_\"]\n    for u in s:\n        v = p[-1]\n        p.pop() if v != u and v.lower() == u.lower() else p.append(u)\n\n    return len(p) - 1\n\n\nwith open(input_for_day(5), \"r\") as input_file:\n    data = input_file.read().strip()\nmin_length = min(\n    collapse(s)\n    for s in (\n        data.replace(l, \"\").replace(l.swapcase(), \"\") for l in string.ascii_lowercase\n    )\n)\nprint(f\"Answer: {min_length}\")",
      "execution_count": 12,
      "outputs": [
        {
          "output_type": "stream",
          "text": "Answer: 6118\nCPU times: user 490 ms, sys: 0 ns, total: 490 ms\nWall time: 510 ms\n",
          "name": "stdout"
        }
      ]
    },
    {
      "metadata": {},
      "cell_type": "markdown",
      "source": "## Day 6\n### Part One\nWhat is the size of the largest area that isn't infinite?"
    },
    {
      "metadata": {
        "trusted": true
      },
      "cell_type": "code",
      "source": "%%time\nwith open(input_for_day(6), \"r\") as input_file:\n    points = np.fromiter(\n        chain.from_iterable(map(int, l.strip().split(\",\")) for l in input_file), np.uint\n    ).reshape(50, 2)\n\n# Boundaries\ntl = np.min(points, axis=0)\nbr = np.max(points, axis=0) + 1\n\n# Index grid\nxx, yy = np.mgrid[tl[0] : br[0], tl[1] : br[1]]\npositions = np.vstack([xx.ravel(), yy.ravel()]).T\n\n# Manhatten distances\ndists = cdist(positions, points, metric=\"cityblock\")\nmin_dists = np.min(dists, axis=1)\n\n# Mapping to pointts\nindex_array = min_dists[..., np.newaxis] == dists\n\n# Non ambigious distances\nnon_ambigious_index = np.sum(index_array, axis=1) == 1\nindex_array = index_array[non_ambigious_index]\n\n# Borders to filter infinit regions\nborder_index = np.any(np.vstack([tl, br - 1])[:, np.newaxis] == positions, axis=(0, 2))\nborder_index = border_index[non_ambigious_index]\nborder_index = np.any(index_array[border_index], axis=0)\n\n# Compute arrea for all points\narea = np.sum(index_array, axis=0)\n\n# Remove points that areas touch the borders\narea[border_index] = -1\n\nprint(f\"Answer: {np.max(area)}\")",
      "execution_count": 13,
      "outputs": [
        {
          "output_type": "stream",
          "text": "Answer: 4754\nCPU times: user 78.8 ms, sys: 22.3 ms, total: 101 ms\nWall time: 122 ms\n",
          "name": "stdout"
        }
      ]
    },
    {
      "metadata": {},
      "cell_type": "markdown",
      "source": "### Part Two\nWhat is the size of the region containing all locations which have a total distance to all given coordinates of less than 10000?"
    },
    {
      "metadata": {
        "trusted": true
      },
      "cell_type": "code",
      "source": "%%time\nwith open(input_for_day(6), \"r\") as input_file:\n    points = np.fromiter(\n        chain.from_iterable(map(int, l.strip().split(\",\")) for l in input_file), np.uint\n    ).reshape(50, 2)\n\n# Boundaries\ntl = np.min(points, axis=0)\nbr = np.max(points, axis=0) + 1\n\n# Index grid\nxx, yy = np.mgrid[tl[0] : br[0], tl[1] : br[1]]\npositions = np.vstack([xx.ravel(), yy.ravel()]).T\n\n# Manhatten distances\ndists = cdist(positions, points, metric=\"cityblock\")\n\nprint(f\"Answer: {np.sum(np.sum(dists, axis=1) < 10000)}\")",
      "execution_count": 14,
      "outputs": [
        {
          "output_type": "stream",
          "text": "Answer: 42344\nCPU times: user 20.6 ms, sys: 41.1 ms, total: 61.6 ms\nWall time: 78.7 ms\n",
          "name": "stdout"
        }
      ]
    },
    {
      "metadata": {},
      "cell_type": "markdown",
      "source": "## Day 7\n### Part One\nIn what order should the steps in your instructions be completed?"
    },
    {
      "metadata": {
        "trusted": true
      },
      "cell_type": "code",
      "source": "%%time\nG = nx.DiGraph()\nwith open(input_for_day(7), \"r\") as input_file:\n    G.add_edges_from(re.findall(\"\\s(\\w)\\s\", edge) for edge in input_file)\n\nresult = []\nwhile G.nodes:\n    result.append(min(G.in_degree(G.nodes), key=lambda x: (x[1], x[0]))[0])\n    G.remove_node(result[-1])\n\nprint(f\"Answer: {''.join(result)}\")",
      "execution_count": 15,
      "outputs": [
        {
          "output_type": "stream",
          "text": "Answer: JNOIKSYABEQRUVWXGTZFDMHLPC\nCPU times: user 3.91 ms, sys: 1.04 ms, total: 4.95 ms\nWall time: 28.3 ms\n",
          "name": "stdout"
        }
      ]
    },
    {
      "metadata": {},
      "cell_type": "markdown",
      "source": "### Part Two\nWith 5 workers and the 60+ second step durations described above, how long will it take to complete all of the steps?"
    },
    {
      "metadata": {
        "trusted": true
      },
      "cell_type": "code",
      "source": "%%time\nG = nx.DiGraph()\nwith open(input_for_day(7), \"r\") as input_file:\n    G.add_edges_from(re.findall(\"\\s(\\w)\\s\", edge) for edge in input_file)\n\ntick = 0\ntime_left = Counter({n: ord(n) - 4 for n in G.nodes})\nwhile G.nodes:\n    ready_nodes = [\n        x[0]\n        for x in sorted(G.in_degree(G.nodes), key=lambda x: (x[1], x[0]))\n        if x[1] == 0\n    ]\n    nodes_changed = False\n    while not nodes_changed:\n        tick = tick + 1\n        for node in ready_nodes[:5]:\n            time_left.subtract(node)\n            if time_left[node] == 0:\n                G.remove_node(node)\n                nodes_changed = True\n\nprint(f\"Answer: {tick}\")",
      "execution_count": 16,
      "outputs": [
        {
          "output_type": "stream",
          "text": "Answer: 1099\nCPU times: user 9.38 ms, sys: 0 ns, total: 9.38 ms\nWall time: 23.8 ms\n",
          "name": "stdout"
        }
      ]
    },
    {
      "metadata": {},
      "cell_type": "markdown",
      "source": "## Day 8\n### Part One\nWhat is the sum of all metadata entries?"
    },
    {
      "metadata": {
        "trusted": true
      },
      "cell_type": "code",
      "source": "%%time\ndef sum_meta(tree):\n    child_count = next(tree)\n    metadata_count = next(tree)\n    return sum(sum_meta(tree) for _ in range(child_count)) + sum(\n        next(tree) for _ in range(metadata_count)\n    )\n\n\nwith open(input_for_day(8), \"r\") as input_file:\n    print(f\"Answer: {sum_meta(map(int, input_file.read().split()))}\")",
      "execution_count": 17,
      "outputs": [
        {
          "output_type": "stream",
          "text": "Answer: 42798\nCPU times: user 11.8 ms, sys: 370 µs, total: 12.1 ms\nWall time: 35.9 ms\n",
          "name": "stdout"
        }
      ]
    },
    {
      "metadata": {},
      "cell_type": "markdown",
      "source": "### Part Two\nWhat is the value of the root node?"
    },
    {
      "metadata": {
        "trusted": true
      },
      "cell_type": "code",
      "source": "%%time\ndef sum_childs(tree):\n    child_count = next(tree)\n    metadata_count = next(tree)\n    child_values = [sum_childs(tree) for _ in range(child_count)]\n    metadata_values = (next(tree) for _ in range(metadata_count))\n    return (\n        sum(child_values[i - 1] for i in metadata_values if 0 < i <= child_count)\n        if child_count\n        else sum(metadata_values)\n    )\n\n\nwith open(input_for_day(8), \"r\") as input_file:\n    print(f\"Answer: {sum_childs(map(int, input_file.read().split()))}\")",
      "execution_count": 18,
      "outputs": [
        {
          "output_type": "stream",
          "text": "Answer: 23798\nCPU times: user 12.8 ms, sys: 628 µs, total: 13.4 ms\nWall time: 31.2 ms\n",
          "name": "stdout"
        }
      ]
    }
  ],
  "metadata": {
    "hide_input": false,
    "kernelspec": {
      "name": "python36",
      "display_name": "Python 3.6",
      "language": "python"
    },
    "language_info": {
      "mimetype": "text/x-python",
      "nbconvert_exporter": "python",
      "name": "python",
      "pygments_lexer": "ipython3",
      "version": "3.6.6",
      "file_extension": ".py",
      "codemirror_mode": {
        "version": 3,
        "name": "ipython"
      }
    },
    "toc": {
      "base_numbering": 1,
      "nav_menu": {},
      "number_sections": true,
      "sideBar": true,
      "skip_h1_title": false,
      "title_cell": "Table of Contents",
      "title_sidebar": "Contents",
      "toc_cell": false,
      "toc_position": {},
      "toc_section_display": true,
      "toc_window_display": false
    },
    "varInspector": {
      "cols": {
        "lenName": 16,
        "lenType": 16,
        "lenVar": 40
      },
      "kernels_config": {
        "python": {
          "delete_cmd_postfix": "",
          "delete_cmd_prefix": "del ",
          "library": "var_list.py",
          "varRefreshCmd": "print(var_dic_list())"
        },
        "r": {
          "delete_cmd_postfix": ") ",
          "delete_cmd_prefix": "rm(",
          "library": "var_list.r",
          "varRefreshCmd": "cat(var_dic_list()) "
        }
      },
      "types_to_exclude": [
        "module",
        "function",
        "builtin_function_or_method",
        "instance",
        "_Feature"
      ],
      "window_display": false
    }
  },
  "nbformat": 4,
  "nbformat_minor": 2
}