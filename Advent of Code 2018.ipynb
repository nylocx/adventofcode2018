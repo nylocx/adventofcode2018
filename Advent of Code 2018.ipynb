{
  "cells": [
    {
      "metadata": {},
      "cell_type": "markdown",
      "source": "# Advent of Code 2018"
    },
    {
      "metadata": {
        "ExecuteTime": {
          "end_time": "2018-12-07T07:19:20.684792Z",
          "start_time": "2018-12-07T07:19:20.681078Z"
        },
        "trusted": true
      },
      "cell_type": "code",
      "source": "import os\nimport re\n\nfrom collections import Counter, defaultdict\nfrom datetime import datetime\nfrom itertools import accumulate, combinations, cycle\n\nimport numpy as np\nimport pandas as pd\nimport requests",
      "execution_count": 62,
      "outputs": []
    },
    {
      "metadata": {
        "ExecuteTime": {
          "end_time": "2018-12-07T07:14:44.789656Z",
          "start_time": "2018-12-07T07:14:44.783592Z"
        },
        "trusted": true
      },
      "cell_type": "code",
      "source": "def input_for_day(day):\n    file_name = f\"day{day:0>2}_input\"\n    if os.path.exists(file_name):\n        return os.path.abspath(file_name)\n    with open(\"session\", \"r\") as session_file:\n        response = requests.get(f\"https://adventofcode.com/2018/day/{day}/input\",\n                                cookies={\"session\": session_file.read()})\n    with open(file_name, \"w\") as input_file:\n        print(response.text.strip(), file=input_file)\n    return os.path.abspath(file_name)",
      "execution_count": 2,
      "outputs": []
    },
    {
      "metadata": {},
      "cell_type": "markdown",
      "source": "## Day 1\n### Part One\nStarting with a frequency of zero, what is the resulting frequency after all of the changes in frequency have been applied?"
    },
    {
      "metadata": {
        "ExecuteTime": {
          "end_time": "2018-12-07T07:15:06.606814Z",
          "start_time": "2018-12-07T07:15:06.601101Z"
        },
        "trusted": true
      },
      "cell_type": "code",
      "source": "%time\nwith open(input_for_day(1), \"r\") as input_file:\n    print(f'Answer: {sum(map(int, input_file))}')",
      "execution_count": 3,
      "outputs": [
        {
          "output_type": "stream",
          "text": "CPU times: user 2 µs, sys: 2 µs, total: 4 µs\nWall time: 9.54 µs\nAnswer: 538\n",
          "name": "stdout"
        }
      ]
    },
    {
      "metadata": {},
      "cell_type": "markdown",
      "source": "### Part Two\nWhat is the first frequency your device reaches twice?"
    },
    {
      "metadata": {
        "ExecuteTime": {
          "end_time": "2018-12-07T07:16:21.654873Z",
          "start_time": "2018-12-07T07:16:21.622404Z"
        },
        "trusted": true
      },
      "cell_type": "code",
      "source": "%%time\nfreq_set = {0}\nwith open(input_for_day(1), \"r\") as input_file:\n    for freq in accumulate(cycle(int(line) for line in input_file)):\n        if freq in freq_set or freq_set.add(freq):\n            print(f\"Answer: {freq}\")\n            break",
      "execution_count": 4,
      "outputs": [
        {
          "output_type": "stream",
          "text": "Answer: 77271\nCPU times: user 50.5 ms, sys: 20.1 ms, total: 70.5 ms\nWall time: 86.7 ms\n",
          "name": "stdout"
        }
      ]
    },
    {
      "metadata": {},
      "cell_type": "markdown",
      "source": "## Day 2\n### Part One\nWhat is the checksum for your list of box IDs?"
    },
    {
      "metadata": {
        "ExecuteTime": {
          "end_time": "2018-12-07T08:29:17.221428Z",
          "start_time": "2018-12-07T08:29:17.211589Z"
        },
        "trusted": true
      },
      "cell_type": "code",
      "source": "%%time\nwith open(input_for_day(2), \"r\") as input_file:\n    counters = [Counter(n.strip()).values() for n in input_file]\nchecksum = sum(2 in c for c in counters) * sum(3 in c for c in counters)\nprint(f\"Answer: {checksum}\")",
      "execution_count": 5,
      "outputs": [
        {
          "output_type": "stream",
          "text": "Answer: 5976\nCPU times: user 10.3 ms, sys: 321 µs, total: 10.7 ms\nWall time: 154 ms\n",
          "name": "stdout"
        }
      ]
    },
    {
      "metadata": {},
      "cell_type": "markdown",
      "source": "### Part Two\nWhat letters are common between the two correct box IDs?"
    },
    {
      "metadata": {
        "ExecuteTime": {
          "end_time": "2018-12-07T08:33:07.567351Z",
          "start_time": "2018-12-07T08:33:07.5611Z"
        },
        "trusted": true
      },
      "cell_type": "code",
      "source": "%%time\nwith open(input_for_day(2), \"r\") as input_file:\n    counters = {x: Counter(x).values() for x in (n.strip() for n in input_file)}\nfor x, y in combinations((n for n, c in counters.items() if any(s in c for s in (2, 3))), 2):\n    if sum(a != b for a, b in zip(x, y)) == 1:\n        print(f\"Answer: {''.join(a for a, b in zip(x, y) if a == b)}\")\n        break",
      "execution_count": 6,
      "outputs": [
        {
          "output_type": "stream",
          "text": "Answer: xretqmmonskvzupalfiwhcfdb\nCPU times: user 21.2 ms, sys: 676 µs, total: 21.8 ms\nWall time: 37.1 ms\n",
          "name": "stdout"
        }
      ]
    },
    {
      "metadata": {},
      "cell_type": "markdown",
      "source": "## Day 3\n### Part One\nHow many square inches of fabric are within two or more claims?"
    },
    {
      "metadata": {
        "trusted": true
      },
      "cell_type": "code",
      "source": "%%time\nexpr = re.compile(r\"#(\\d+)\\s@\\s(\\d+),(\\d+):\\s(\\d+)x(\\d+)\")\nfabric = np.zeros((1000, 1000), dtype=np.uint32)\nwith open(input_for_day(3), \"r\") as input_file:\n    for claim in input_file:\n        _, x, y, w, h = map(int, expr.match(claim).groups())\n        fabric[y:y+h, x:x+w] += 1\n    print(f\"Answer: {np.sum(fabric > 1)}\")",
      "execution_count": 7,
      "outputs": [
        {
          "output_type": "stream",
          "text": "Answer: 117948\nCPU times: user 23.4 ms, sys: 0 ns, total: 23.4 ms\nWall time: 127 ms\n",
          "name": "stdout"
        }
      ]
    },
    {
      "metadata": {},
      "cell_type": "markdown",
      "source": "### Part Two\nWhat is the ID of the only claim that doesn't overlap?"
    },
    {
      "metadata": {
        "trusted": true
      },
      "cell_type": "code",
      "source": "%%time\nexpr = re.compile(r\"#(\\d+)\\s@\\s(\\d+),(\\d+):\\s(\\d+)x(\\d+)\")\nfabric = np.zeros((1000, 1000), dtype=np.uint32)\nwith open(input_for_day(3), \"r\") as input_file:\n    claims = [list(map(int, expr.match(claim).groups())) for claim in input_file]\nfor claim in claims:\n    _, x, y, w, h = claim\n    fabric[y:y+h, x:x+w] += 1\nfor claim in claims:\n    claim_id, x, y, w, h = claim\n    if np.all(fabric[y:y+h, x:x+w] == 1):\n        print(f\"Answer: {claim_id}\")\n        break",
      "execution_count": 8,
      "outputs": [
        {
          "output_type": "stream",
          "text": "Answer: 567\nCPU times: user 19.4 ms, sys: 9.32 ms, total: 28.7 ms\nWall time: 54.3 ms\n",
          "name": "stdout"
        }
      ]
    },
    {
      "metadata": {},
      "cell_type": "markdown",
      "source": "## Day 4\n### Part One\nWhat is the ID of the guard you chose multiplied by the minute you chose?"
    },
    {
      "metadata": {
        "trusted": true
      },
      "cell_type": "code",
      "source": "%%time\nentry_expr = re.compile(r\"\\[(.+)\\]\\s(.*)\")\nguard_expr = re.compile(\"Guard\\s#(\\d+)\")\n\nguards = defaultdict(Counter)\nwith open(input_for_day(4), \"r\") as input_file:\n    lines = (entry_expr.match(entry).groups() for entry in sorted(input_file))\nfor timestamp, event in ((datetime.strptime(t, \"%Y-%m-%d %H:%M\"), e) for t, e in lines):\n    if event.startswith(\"Guard\"):\n        guard = int(guard_expr.match(event).group(1))\n    elif event.startswith(\"falls\"):\n        start = timestamp\n    elif event.startswith(\"wakes\"):\n        duration = int((timestamp - start).total_seconds()) // 60\n        guards[guard].update(Counter(start.minute + i for i in range(duration)))\n\n_, guard = max((sum(c.values()), g) for g, c in guards.items())\n\nprint(f\"Answer: {guard * guards[guard].most_common()[0][0]}\")",
      "execution_count": 113,
      "outputs": [
        {
          "output_type": "stream",
          "text": "Answer: 4716\nCPU times: user 32 ms, sys: 1.84 ms, total: 33.8 ms\nWall time: 71 ms\n",
          "name": "stdout"
        }
      ]
    },
    {
      "metadata": {},
      "cell_type": "markdown",
      "source": "### Part Two\nWhat is the ID of the guard you chose multiplied by the minute you chose? "
    },
    {
      "metadata": {
        "trusted": true
      },
      "cell_type": "code",
      "source": "%%time\nentry_expr = re.compile(r\"\\[(.+)\\]\\s(.*)\")\nguard_expr = re.compile(\"Guard\\s#(\\d+)\")\n\nguards = defaultdict(Counter)\nwith open(input_for_day(4), \"r\") as input_file:\n    lines = (entry_expr.match(entry).groups() for entry in sorted(input_file))\nfor timestamp, event in ((datetime.strptime(t, \"%Y-%m-%d %H:%M\"), e) for t, e in lines):\n    if event.startswith(\"Guard\"):\n        guard = int(guard_expr.match(event).group(1))\n    elif event.startswith(\"falls\"):\n        start = timestamp\n    elif event.startswith(\"wakes\"):\n        duration = int((timestamp - start).total_seconds()) // 60\n        guards[guard].update(Counter(start.minute + i for i in range(duration)))\n\n(_, minute), guard = max((c.most_common()[0][::-1], g) for g, c in guards.items())\n\nprint(f\"Answer: {guard * minute}\")",
      "execution_count": 112,
      "outputs": [
        {
          "output_type": "stream",
          "text": "Answer: 117061\nCPU times: user 31.1 ms, sys: 0 ns, total: 31.1 ms\nWall time: 77.9 ms\n",
          "name": "stdout"
        }
      ]
    }
  ],
  "metadata": {
    "hide_input": false,
    "kernelspec": {
      "name": "python36",
      "display_name": "Python 3.6",
      "language": "python"
    },
    "language_info": {
      "mimetype": "text/x-python",
      "nbconvert_exporter": "python",
      "name": "python",
      "pygments_lexer": "ipython3",
      "version": "3.6.6",
      "file_extension": ".py",
      "codemirror_mode": {
        "version": 3,
        "name": "ipython"
      }
    },
    "toc": {
      "base_numbering": 1,
      "nav_menu": {},
      "number_sections": true,
      "sideBar": true,
      "skip_h1_title": false,
      "title_cell": "Table of Contents",
      "title_sidebar": "Contents",
      "toc_cell": false,
      "toc_position": {},
      "toc_section_display": true,
      "toc_window_display": false
    },
    "varInspector": {
      "cols": {
        "lenName": 16,
        "lenType": 16,
        "lenVar": 40
      },
      "kernels_config": {
        "python": {
          "delete_cmd_postfix": "",
          "delete_cmd_prefix": "del ",
          "library": "var_list.py",
          "varRefreshCmd": "print(var_dic_list())"
        },
        "r": {
          "delete_cmd_postfix": ") ",
          "delete_cmd_prefix": "rm(",
          "library": "var_list.r",
          "varRefreshCmd": "cat(var_dic_list()) "
        }
      },
      "types_to_exclude": [
        "module",
        "function",
        "builtin_function_or_method",
        "instance",
        "_Feature"
      ],
      "window_display": false
    }
  },
  "nbformat": 4,
  "nbformat_minor": 2
}