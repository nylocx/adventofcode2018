{
 "cells": [
  {
   "cell_type": "markdown",
   "metadata": {},
   "source": [
    "# Advent of Code 2018"
   ]
  },
  {
   "cell_type": "code",
   "execution_count": 18,
   "metadata": {
    "ExecuteTime": {
     "end_time": "2018-12-07T07:19:20.684792Z",
     "start_time": "2018-12-07T07:19:20.681078Z"
    }
   },
   "outputs": [],
   "source": [
    "import os\n",
    "import re\n",
    "import string\n",
    "\n",
    "from collections import Counter, defaultdict, deque\n",
    "from datetime import datetime\n",
    "from itertools import accumulate, chain, combinations, cycle, zip_longest\n",
    "import operator as op\n",
    "\n",
    "import networkx as nx\n",
    "import numpy as np\n",
    "import pandas as pd\n",
    "import requests\n",
    "\n",
    "from scipy.spatial.distance import cdist\n",
    "\n",
    "%matplotlib inline"
   ]
  },
  {
   "cell_type": "code",
   "execution_count": 3,
   "metadata": {
    "ExecuteTime": {
     "end_time": "2018-12-07T07:14:44.789656Z",
     "start_time": "2018-12-07T07:14:44.783592Z"
    }
   },
   "outputs": [],
   "source": [
    "def input_for_day(day):\n",
    "    file_name = f\"day{day:0>2}_input\"\n",
    "    if os.path.exists(file_name):\n",
    "        return os.path.abspath(file_name)\n",
    "    with open(\"session\", \"r\") as session_file:\n",
    "        response = requests.get(f\"https://adventofcode.com/2018/day/{day}/input\",\n",
    "                                cookies={\"session\": session_file.read()})\n",
    "    with open(file_name, \"w\") as input_file:\n",
    "        print(response.text.strip(), file=input_file)\n",
    "    return os.path.abspath(file_name)"
   ]
  },
  {
   "cell_type": "markdown",
   "metadata": {},
   "source": [
    "## Day 1\n",
    "### Part One\n",
    "Starting with a frequency of zero, what is the resulting frequency after all of the changes in frequency have been applied?"
   ]
  },
  {
   "cell_type": "code",
   "execution_count": 4,
   "metadata": {
    "ExecuteTime": {
     "end_time": "2018-12-07T07:15:06.606814Z",
     "start_time": "2018-12-07T07:15:06.601101Z"
    }
   },
   "outputs": [
    {
     "name": "stdout",
     "output_type": "stream",
     "text": [
      "Wall time: 0 ns\n",
      "Answer: 538\n"
     ]
    }
   ],
   "source": [
    "%time\n",
    "with open(input_for_day(1), \"r\") as input_file:\n",
    "    print(f'Answer: {sum(map(int, input_file))}')"
   ]
  },
  {
   "cell_type": "markdown",
   "metadata": {},
   "source": [
    "### Part Two\n",
    "What is the first frequency your device reaches twice?"
   ]
  },
  {
   "cell_type": "code",
   "execution_count": 5,
   "metadata": {
    "ExecuteTime": {
     "end_time": "2018-12-07T07:16:21.654873Z",
     "start_time": "2018-12-07T07:16:21.622404Z"
    }
   },
   "outputs": [
    {
     "name": "stdout",
     "output_type": "stream",
     "text": [
      "Answer: 77271\n",
      "Wall time: 20.9 ms\n"
     ]
    }
   ],
   "source": [
    "%%time\n",
    "freq_set = {0}\n",
    "with open(input_for_day(1), \"r\") as input_file:\n",
    "    for freq in accumulate(cycle(int(line) for line in input_file)):\n",
    "        if freq in freq_set or freq_set.add(freq):\n",
    "            print(f\"Answer: {freq}\")\n",
    "            break"
   ]
  },
  {
   "cell_type": "markdown",
   "metadata": {},
   "source": [
    "## Day 2\n",
    "### Part One\n",
    "What is the checksum for your list of box IDs?"
   ]
  },
  {
   "cell_type": "code",
   "execution_count": 6,
   "metadata": {
    "ExecuteTime": {
     "end_time": "2018-12-07T08:29:17.221428Z",
     "start_time": "2018-12-07T08:29:17.211589Z"
    }
   },
   "outputs": [
    {
     "name": "stdout",
     "output_type": "stream",
     "text": [
      "Answer: 5976\n",
      "Wall time: 8 ms\n"
     ]
    }
   ],
   "source": [
    "%%time\n",
    "with open(input_for_day(2), \"r\") as input_file:\n",
    "    counters = [Counter(n.strip()).values() for n in input_file]\n",
    "checksum = sum(2 in c for c in counters) * sum(3 in c for c in counters)\n",
    "print(f\"Answer: {checksum}\")"
   ]
  },
  {
   "cell_type": "markdown",
   "metadata": {},
   "source": [
    "### Part Two\n",
    "What letters are common between the two correct box IDs?"
   ]
  },
  {
   "cell_type": "code",
   "execution_count": 7,
   "metadata": {
    "ExecuteTime": {
     "end_time": "2018-12-07T08:33:07.567351Z",
     "start_time": "2018-12-07T08:33:07.5611Z"
    }
   },
   "outputs": [
    {
     "name": "stdout",
     "output_type": "stream",
     "text": [
      "Answer: xretqmmonskvzupalfiwhcfdb\n",
      "Wall time: 13 ms\n"
     ]
    }
   ],
   "source": [
    "%%time\n",
    "with open(input_for_day(2), \"r\") as input_file:\n",
    "    counters = {x: Counter(x).values() for x in (n.strip() for n in input_file)}\n",
    "for x, y in combinations((n for n, c in counters.items() if any(s in c for s in (2, 3))), 2):\n",
    "    if sum(a != b for a, b in zip(x, y)) == 1:\n",
    "        print(f\"Answer: {''.join(a for a, b in zip(x, y) if a == b)}\")\n",
    "        break"
   ]
  },
  {
   "cell_type": "markdown",
   "metadata": {},
   "source": [
    "## Day 3\n",
    "### Part One\n",
    "How many square inches of fabric are within two or more claims?"
   ]
  },
  {
   "cell_type": "code",
   "execution_count": 8,
   "metadata": {},
   "outputs": [
    {
     "name": "stdout",
     "output_type": "stream",
     "text": [
      "Answer: 117948\n",
      "Wall time: 18 ms\n"
     ]
    }
   ],
   "source": [
    "%%time\n",
    "expr = re.compile(r\"#(\\d+)\\s@\\s(\\d+),(\\d+):\\s(\\d+)x(\\d+)\")\n",
    "fabric = np.zeros((1000, 1000), dtype=np.uint32)\n",
    "with open(input_for_day(3), \"r\") as input_file:\n",
    "    for claim in input_file:\n",
    "        _, x, y, w, h = map(int, expr.match(claim).groups())\n",
    "        fabric[y:y+h, x:x+w] += 1\n",
    "    print(f\"Answer: {np.sum(fabric > 1)}\")"
   ]
  },
  {
   "cell_type": "markdown",
   "metadata": {},
   "source": [
    "### Part Two\n",
    "What is the ID of the only claim that doesn't overlap?"
   ]
  },
  {
   "cell_type": "code",
   "execution_count": 9,
   "metadata": {},
   "outputs": [
    {
     "name": "stdout",
     "output_type": "stream",
     "text": [
      "Answer: 567\n",
      "Wall time: 14 ms\n"
     ]
    }
   ],
   "source": [
    "%%time\n",
    "expr = re.compile(r\"#(\\d+)\\s@\\s(\\d+),(\\d+):\\s(\\d+)x(\\d+)\")\n",
    "fabric = np.zeros((1000, 1000), dtype=np.uint32)\n",
    "with open(input_for_day(3), \"r\") as input_file:\n",
    "    claims = [list(map(int, expr.match(claim).groups())) for claim in input_file]\n",
    "for claim in claims:\n",
    "    _, x, y, w, h = claim\n",
    "    fabric[y:y+h, x:x+w] += 1\n",
    "for claim in claims:\n",
    "    claim_id, x, y, w, h = claim\n",
    "    if np.all(fabric[y:y+h, x:x+w] == 1):\n",
    "        print(f\"Answer: {claim_id}\")\n",
    "        break"
   ]
  },
  {
   "cell_type": "markdown",
   "metadata": {},
   "source": [
    "## Day 4\n",
    "### Part One\n",
    "What is the ID of the guard you chose multiplied by the minute you chose?"
   ]
  },
  {
   "cell_type": "code",
   "execution_count": 10,
   "metadata": {},
   "outputs": [
    {
     "name": "stdout",
     "output_type": "stream",
     "text": [
      "Answer: 4716\n",
      "Wall time: 19.9 ms\n"
     ]
    }
   ],
   "source": [
    "%%time\n",
    "entry_expr = re.compile(r\"\\[(.+)\\]\\s(.*)\")\n",
    "guard_expr = re.compile(\"Guard\\s#(\\d+)\")\n",
    "\n",
    "guards = defaultdict(Counter)\n",
    "with open(input_for_day(4), \"r\") as input_file:\n",
    "    lines = (entry_expr.match(entry).groups() for entry in sorted(input_file))\n",
    "for timestamp, event in ((datetime.strptime(t, \"%Y-%m-%d %H:%M\"), e) for t, e in lines):\n",
    "    if event.startswith(\"Guard\"):\n",
    "        guard = int(guard_expr.match(event).group(1))\n",
    "    elif event.startswith(\"falls\"):\n",
    "        start = timestamp\n",
    "    elif event.startswith(\"wakes\"):\n",
    "        duration = int((timestamp - start).total_seconds()) // 60\n",
    "        guards[guard].update(Counter(start.minute + i for i in range(duration)))\n",
    "\n",
    "_, guard = max((sum(c.values()), g) for g, c in guards.items())\n",
    "\n",
    "print(f\"Answer: {guard * guards[guard].most_common()[0][0]}\")"
   ]
  },
  {
   "cell_type": "markdown",
   "metadata": {},
   "source": [
    "### Part Two\n",
    "What is the ID of the guard you chose multiplied by the minute you chose? "
   ]
  },
  {
   "cell_type": "code",
   "execution_count": 11,
   "metadata": {},
   "outputs": [
    {
     "name": "stdout",
     "output_type": "stream",
     "text": [
      "Answer: 117061\n",
      "Wall time: 16 ms\n"
     ]
    }
   ],
   "source": [
    "%%time\n",
    "entry_expr = re.compile(r\"\\[(.+)\\]\\s(.*)\")\n",
    "guard_expr = re.compile(\"Guard\\s#(\\d+)\")\n",
    "\n",
    "guards = defaultdict(Counter)\n",
    "with open(input_for_day(4), \"r\") as input_file:\n",
    "    lines = (entry_expr.match(entry).groups() for entry in sorted(input_file))\n",
    "for timestamp, event in ((datetime.strptime(t, \"%Y-%m-%d %H:%M\"), e) for t, e in lines):\n",
    "    if event.startswith(\"Guard\"):\n",
    "        guard = int(guard_expr.match(event).group(1))\n",
    "    elif event.startswith(\"falls\"):\n",
    "        start = timestamp\n",
    "    elif event.startswith(\"wakes\"):\n",
    "        duration = int((timestamp - start).total_seconds()) // 60\n",
    "        guards[guard].update(Counter(start.minute + i for i in range(duration)))\n",
    "\n",
    "(_, minute), guard = max((c.most_common()[0][::-1], g) for g, c in guards.items())\n",
    "\n",
    "print(f\"Answer: {guard * minute}\")"
   ]
  },
  {
   "cell_type": "markdown",
   "metadata": {},
   "source": [
    "## Day 5\n",
    "### Part One\n",
    "How many units remain after fully reacting the polymer you scanned?"
   ]
  },
  {
   "cell_type": "code",
   "execution_count": 12,
   "metadata": {},
   "outputs": [
    {
     "name": "stdout",
     "output_type": "stream",
     "text": [
      "Answer: 11252\n",
      "Wall time: 17 ms\n"
     ]
    }
   ],
   "source": [
    "%%time\n",
    "def collapse(s):\n",
    "    p = [\"_\"]\n",
    "    for u in s:\n",
    "        v = p[-1]\n",
    "        p.pop() if v != u and v.lower() == u.lower() else p.append(u)\n",
    "            \n",
    "    return len(p) - 1\n",
    "\n",
    "with open(input_for_day(5), \"r\") as input_file:\n",
    "    print(f\"Answer: {collapse(input_file.read().strip())}\")"
   ]
  },
  {
   "cell_type": "markdown",
   "metadata": {},
   "source": [
    "### Part Two\n",
    "What is the length of the shortest polymer you can produce by removing all units of exactly one type and fully reacting the result?"
   ]
  },
  {
   "cell_type": "code",
   "execution_count": 13,
   "metadata": {},
   "outputs": [
    {
     "name": "stdout",
     "output_type": "stream",
     "text": [
      "Answer: 6118\n",
      "Wall time: 246 ms\n"
     ]
    }
   ],
   "source": [
    "%%time\n",
    "def collapse(s):\n",
    "    p = [\"_\"]\n",
    "    for u in s:\n",
    "        v = p[-1]\n",
    "        p.pop() if v != u and v.lower() == u.lower() else p.append(u)\n",
    "            \n",
    "    return len(p) - 1\n",
    "\n",
    "with open(input_for_day(5), \"r\") as input_file:\n",
    "    data = input_file.read().strip()\n",
    "min_length = min(collapse(s) for s in (data.replace(l, \"\").replace(l.swapcase(), \"\") for l in string.ascii_lowercase))\n",
    "print(f\"Answer: {min_length}\")"
   ]
  },
  {
   "cell_type": "markdown",
   "metadata": {},
   "source": [
    "## Day 6\n",
    "### Part One\n",
    "What is the size of the largest area that isn't infinite?"
   ]
  },
  {
   "cell_type": "code",
   "execution_count": 14,
   "metadata": {},
   "outputs": [
    {
     "name": "stdout",
     "output_type": "stream",
     "text": [
      "Answer: 4754\n",
      "Wall time: 47.5 ms\n"
     ]
    }
   ],
   "source": [
    "%%time\n",
    "with open(input_for_day(6), \"r\") as input_file:\n",
    "    points = np.fromiter(chain.from_iterable(map(int, l.strip().split(\",\")) for l in input_file), np.uint).reshape(50, 2)\n",
    "\n",
    "# Boundaries\n",
    "tl = np.min(points, axis=0)\n",
    "br = np.max(points, axis=0) + 1\n",
    "\n",
    "# Index grid\n",
    "xx, yy = np.mgrid[tl[0]:br[0], tl[1]:br[1]]\n",
    "positions = np.vstack([xx.ravel(), yy.ravel()]).T\n",
    "\n",
    "# Manhatten distances\n",
    "dists = cdist(positions, points, metric='cityblock')\n",
    "min_dists = np.min(dists, axis=1)\n",
    "\n",
    "# Mapping to pointts\n",
    "index_array = (min_dists[..., np.newaxis] == dists)\n",
    "\n",
    "# Non ambigious distances\n",
    "non_ambigious_index = (np.sum(index_array, axis=1) == 1)\n",
    "index_array = index_array[non_ambigious_index]\n",
    "\n",
    "# Borders to filter infinit regions\n",
    "border_index = np.any(np.vstack([tl, br-1])[:,np.newaxis] == positions, axis=(0, 2))\n",
    "border_index = border_index[non_ambigious_index]\n",
    "border_index = np.any(index_array[border_index], axis=0)\n",
    "\n",
    "# Compute arrea for all points\n",
    "area = np.sum(index_array, axis=0)\n",
    "\n",
    "# Remove points that areas touch the borders\n",
    "area[border_index] = -1\n",
    "\n",
    "print(f\"Answer: {np.max(area)}\")"
   ]
  },
  {
   "cell_type": "markdown",
   "metadata": {},
   "source": [
    "### Part Two\n",
    "What is the size of the region containing all locations which have a total distance to all given coordinates of less than 10000?"
   ]
  },
  {
   "cell_type": "code",
   "execution_count": 15,
   "metadata": {},
   "outputs": [
    {
     "name": "stdout",
     "output_type": "stream",
     "text": [
      "Answer: 42344\n",
      "Wall time: 25.9 ms\n"
     ]
    }
   ],
   "source": [
    "%%time\n",
    "with open(input_for_day(6), \"r\") as input_file:\n",
    "    points = np.fromiter(chain.from_iterable(map(int, l.strip().split(\",\")) for l in input_file), np.uint).reshape(50, 2)\n",
    "\n",
    "# Boundaries\n",
    "tl = np.min(points, axis=0)\n",
    "br = np.max(points, axis=0) + 1\n",
    "\n",
    "# Index grid\n",
    "xx, yy = np.mgrid[tl[0]:br[0], tl[1]:br[1]]\n",
    "positions = np.vstack([xx.ravel(), yy.ravel()]).T\n",
    "\n",
    "# Manhatten distances\n",
    "dists = cdist(positions, points, metric='cityblock')\n",
    "\n",
    "print(f\"Answer: {np.sum(np.sum(dists, axis=1) < 10000)}\")"
   ]
  },
  {
   "cell_type": "markdown",
   "metadata": {},
   "source": [
    "## Day 7\n",
    "### Part One\n",
    "In what order should the steps in your instructions be completed?"
   ]
  },
  {
   "cell_type": "code",
   "execution_count": 16,
   "metadata": {},
   "outputs": [
    {
     "name": "stdout",
     "output_type": "stream",
     "text": [
      "Answer: JNOIKSYABEQRUVWXGTZFDMHLPC\n",
      "Wall time: 6.98 ms\n"
     ]
    }
   ],
   "source": [
    "%%time\n",
    "with open(input_for_day(7), \"r\") as input_file:\n",
    "    edges = [re.findall(\"\\s(\\w)\\s\", edge) for edge in input_file]\n",
    "vertices = set(chain.from_iterable(edges))\n",
    "\n",
    "G = nx.DiGraph()\n",
    "G.add_nodes_from(vertices)\n",
    "G.add_edges_from(edges)\n",
    "\n",
    "result = []\n",
    "while G.nodes:\n",
    "    n = min(G.in_degree(G.nodes), key=lambda x: (x[1],x[0]))[0]\n",
    "    G.remove_node(n)\n",
    "    result.append(n)\n",
    "\n",
    "print(f\"Answer: {''.join(result)}\")"
   ]
  },
  {
   "cell_type": "markdown",
   "metadata": {},
   "source": [
    "### Part Two\n",
    "With 5 workers and the 60+ second step durations described above, how long will it take to complete all of the steps?"
   ]
  },
  {
   "cell_type": "code",
   "execution_count": 75,
   "metadata": {},
   "outputs": [
    {
     "name": "stdout",
     "output_type": "stream",
     "text": [
      "Answer: 1099\n",
      "Wall time: 1.99 ms\n"
     ]
    }
   ],
   "source": [
    "%%time\n",
    "with open(input_for_day(7), \"r\") as input_file:\n",
    "    edges = [re.findall(\"\\s(\\w)\\s\", edge) for edge in input_file]\n",
    "vertices = set(chain.from_iterable(edges))\n",
    "\n",
    "G = nx.DiGraph()\n",
    "G.add_nodes_from((v, {\"steptime\": ord(v) - 4}) for v in vertices)\n",
    "G.add_edges_from(edges)\n",
    "\n",
    "tick = 0\n",
    "counts = nx.get_node_attributes(G, \"steptime\")\n",
    "while G.nodes:\n",
    "    ready_nodes = [x[0] for x in sorted(G.in_degree(G.nodes), key=lambda x: (x[1],x[0])) if x[1] == 0]\n",
    "    refresh = False\n",
    "    while not refresh:\n",
    "        tick = tick + 1\n",
    "        for node in ready_nodes[:5]:\n",
    "            counts[node] = counts[node] - 1\n",
    "            if counts[node] == 0:\n",
    "                G.remove_node(node)\n",
    "                refresh = True\n",
    "\n",
    "print(f\"Answer: {tick}\")"
   ]
  }
 ],
 "metadata": {
  "hide_input": false,
  "kernelspec": {
   "display_name": "Python 3",
   "language": "python",
   "name": "python3"
  },
  "language_info": {
   "codemirror_mode": {
    "name": "ipython",
    "version": 3
   },
   "file_extension": ".py",
   "mimetype": "text/x-python",
   "name": "python",
   "nbconvert_exporter": "python",
   "pygments_lexer": "ipython3",
   "version": "3.7.0"
  },
  "toc": {
   "base_numbering": 1,
   "nav_menu": {},
   "number_sections": true,
   "sideBar": true,
   "skip_h1_title": false,
   "title_cell": "Table of Contents",
   "title_sidebar": "Contents",
   "toc_cell": false,
   "toc_position": {},
   "toc_section_display": true,
   "toc_window_display": false
  },
  "varInspector": {
   "cols": {
    "lenName": 16,
    "lenType": 16,
    "lenVar": 40
   },
   "kernels_config": {
    "python": {
     "delete_cmd_postfix": "",
     "delete_cmd_prefix": "del ",
     "library": "var_list.py",
     "varRefreshCmd": "print(var_dic_list())"
    },
    "r": {
     "delete_cmd_postfix": ") ",
     "delete_cmd_prefix": "rm(",
     "library": "var_list.r",
     "varRefreshCmd": "cat(var_dic_list()) "
    }
   },
   "types_to_exclude": [
    "module",
    "function",
    "builtin_function_or_method",
    "instance",
    "_Feature"
   ],
   "window_display": false
  }
 },
 "nbformat": 4,
 "nbformat_minor": 2
}
