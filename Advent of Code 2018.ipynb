{
 "cells": [
  {
   "cell_type": "markdown",
   "metadata": {},
   "source": [
    "# Advent of Code 2018"
   ]
  },
  {
   "cell_type": "code",
   "execution_count": 1,
   "metadata": {
    "ExecuteTime": {
     "end_time": "2018-12-07T07:19:20.684792Z",
     "start_time": "2018-12-07T07:19:20.681078Z"
    }
   },
   "outputs": [],
   "source": [
    "import os\n",
    "import re\n",
    "\n",
    "from collections import Counter\n",
    "from itertools import accumulate, combinations, cycle\n",
    "\n",
    "import numpy as np\n",
    "import requests"
   ]
  },
  {
   "cell_type": "code",
   "execution_count": 2,
   "metadata": {
    "ExecuteTime": {
     "end_time": "2018-12-07T07:14:44.789656Z",
     "start_time": "2018-12-07T07:14:44.783592Z"
    }
   },
   "outputs": [],
   "source": [
    "def input_for_day(day):\n",
    "    file_name = f\"day{day:0>2}_input\"\n",
    "    if os.path.exists(file_name):\n",
    "        return os.path.abspath(file_name)\n",
    "    with open(\"session\", \"r\") as session_file:\n",
    "        response = requests.get(f\"https://adventofcode.com/2018/day/{day}/input\",\n",
    "                                cookies={\"session\": session_file.read()})\n",
    "    with open(file_name, \"w\") as input_file:\n",
    "        print(response.text.strip(), file=input_file)\n",
    "    return os.path.abspath(file_name)"
   ]
  },
  {
   "cell_type": "markdown",
   "metadata": {},
   "source": [
    "## Day 1\n",
    "### Part One\n",
    "Starting with a frequency of zero, what is the resulting frequency after all of the changes in frequency have been applied?"
   ]
  },
  {
   "cell_type": "code",
   "execution_count": 44,
   "metadata": {
    "ExecuteTime": {
     "end_time": "2018-12-07T07:15:06.606814Z",
     "start_time": "2018-12-07T07:15:06.601101Z"
    }
   },
   "outputs": [
    {
     "name": "stdout",
     "output_type": "stream",
     "text": [
      "Answer: 538\n",
      "Wall time: 998 µs\n"
     ]
    }
   ],
   "source": [
    "%time\n",
    "with open(input_for_day(1), \"r\") as input_file:\n",
    "    print(f'Answer: {sum(map(int, input_file))}')"
   ]
  },
  {
   "cell_type": "markdown",
   "metadata": {},
   "source": [
    "### Part Two\n",
    "What is the first frequency your device reaches twice?"
   ]
  },
  {
   "cell_type": "code",
   "execution_count": 48,
   "metadata": {
    "ExecuteTime": {
     "end_time": "2018-12-07T07:16:21.654873Z",
     "start_time": "2018-12-07T07:16:21.622404Z"
    }
   },
   "outputs": [
    {
     "name": "stdout",
     "output_type": "stream",
     "text": [
      "Answer: 77271\n",
      "Wall time: 27 ms\n"
     ]
    }
   ],
   "source": [
    "%%time\n",
    "freq_set = {0}\n",
    "with open(input_for_day(1), \"r\") as input_file:\n",
    "    for freq in accumulate(cycle(int(line) for line in input_file)):\n",
    "        if freq in freq_set or freq_set.add(freq):\n",
    "            print(f\"Answer: {freq}\")\n",
    "            break"
   ]
  },
  {
   "cell_type": "markdown",
   "metadata": {},
   "source": [
    "## Day 2\n",
    "### Part One\n",
    "What is the checksum for your list of box IDs?"
   ]
  },
  {
   "cell_type": "code",
   "execution_count": 56,
   "metadata": {
    "ExecuteTime": {
     "end_time": "2018-12-07T08:29:17.221428Z",
     "start_time": "2018-12-07T08:29:17.211589Z"
    }
   },
   "outputs": [
    {
     "name": "stdout",
     "output_type": "stream",
     "text": [
      "Answer: 5976\n",
      "Wall time: 2 ms\n"
     ]
    }
   ],
   "source": [
    "%%time\n",
    "with open(input_for_day(2), \"r\") as input_file:\n",
    "    counters = [Counter(n.strip()).values() for n in input_file]\n",
    "checksum = sum(2 in c for c in counters) * sum(3 in c for c in counters)\n",
    "print(f\"Answer: {checksum}\")"
   ]
  },
  {
   "cell_type": "markdown",
   "metadata": {},
   "source": [
    "### Part Two\n",
    "What letters are common between the two correct box IDs?"
   ]
  },
  {
   "cell_type": "code",
   "execution_count": 49,
   "metadata": {
    "ExecuteTime": {
     "end_time": "2018-12-07T08:33:07.567351Z",
     "start_time": "2018-12-07T08:33:07.561100Z"
    }
   },
   "outputs": [
    {
     "name": "stdout",
     "output_type": "stream",
     "text": [
      "Answer: xretqmmonskvzupalfiwhcfdb\n",
      "Wall time: 16 ms\n"
     ]
    }
   ],
   "source": [
    "%%time\n",
    "with open(input_for_day(2), \"r\") as input_file:\n",
    "    counters = {x: Counter(x).values() for x in (n.strip() for n in input_file)}\n",
    "for x, y in combinations((n for n, c in counters.items() if any(s in c for s in (2, 3))), 2):\n",
    "    if sum(a != b for a, b in zip(x, y)) == 1:\n",
    "        print(f\"Answer: {''.join(a for a, b in zip(x, y) if a == b)}\")\n",
    "        break"
   ]
  },
  {
   "cell_type": "markdown",
   "metadata": {},
   "source": [
    "## Day 3\n",
    "### Part One\n",
    "How many square inches of fabric are within two or more claims?"
   ]
  },
  {
   "cell_type": "code",
   "execution_count": 50,
   "metadata": {},
   "outputs": [
    {
     "name": "stdout",
     "output_type": "stream",
     "text": [
      "Answer: 117948\n",
      "Wall time: 13 ms\n"
     ]
    }
   ],
   "source": [
    "%%time\n",
    "expr = re.compile(r\"#(\\d+)\\s@\\s(\\d+),(\\d+):\\s(\\d+)x(\\d+)\")\n",
    "fabric = np.zeros((1000, 1000), dtype=np.uint32)\n",
    "with open(input_for_day(3), \"r\") as input_file:\n",
    "    for claim in input_file:\n",
    "        _, x, y, w, h = map(int, expr.match(claim).groups())\n",
    "        fabric[y:y+h, x:x+w] += 1\n",
    "    print(f\"Answer: {np.sum(fabric > 1)}\")"
   ]
  },
  {
   "cell_type": "markdown",
   "metadata": {},
   "source": [
    "### Part Two\n",
    "What is the ID of the only claim that doesn't overlap?"
   ]
  },
  {
   "cell_type": "code",
   "execution_count": 55,
   "metadata": {},
   "outputs": [
    {
     "name": "stdout",
     "output_type": "stream",
     "text": [
      "Answer: 567\n",
      "Wall time: 15 ms\n"
     ]
    }
   ],
   "source": [
    "%%time\n",
    "expr = re.compile(r\"#(\\d+)\\s@\\s(\\d+),(\\d+):\\s(\\d+)x(\\d+)\")\n",
    "fabric = np.zeros((1000, 1000), dtype=np.uint32)\n",
    "with open(input_for_day(3), \"r\") as input_file:\n",
    "    claims = [list(map(int, expr.match(claim).groups())) for claim in input_file]\n",
    "for claim in claims:\n",
    "    _, x, y, w, h = claim\n",
    "    fabric[y:y+h, x:x+w] += 1\n",
    "for claim in claims:\n",
    "    claim_id, x, y, w, h = claim\n",
    "    if np.all(fabric[y:y+h, x:x+w] == 1):\n",
    "        print(f\"Answer: {claim_id}\")\n",
    "        break"
   ]
  },
  {
   "cell_type": "markdown",
   "metadata": {},
   "source": [
    "## Day 4\n",
    "### Part One\n",
    "What is the ID of the guard you chose multiplied by the minute you chose?"
   ]
  }
 ],
 "metadata": {
  "hide_input": false,
  "kernelspec": {
   "display_name": "Python 3",
   "language": "python",
   "name": "python3"
  },
  "language_info": {
   "codemirror_mode": {
    "name": "ipython",
    "version": 3
   },
   "file_extension": ".py",
   "mimetype": "text/x-python",
   "name": "python",
   "nbconvert_exporter": "python",
   "pygments_lexer": "ipython3",
   "version": "3.7.0"
  },
  "toc": {
   "base_numbering": 1,
   "nav_menu": {},
   "number_sections": true,
   "sideBar": true,
   "skip_h1_title": false,
   "title_cell": "Table of Contents",
   "title_sidebar": "Contents",
   "toc_cell": false,
   "toc_position": {},
   "toc_section_display": true,
   "toc_window_display": false
  },
  "varInspector": {
   "cols": {
    "lenName": 16,
    "lenType": 16,
    "lenVar": 40
   },
   "kernels_config": {
    "python": {
     "delete_cmd_postfix": "",
     "delete_cmd_prefix": "del ",
     "library": "var_list.py",
     "varRefreshCmd": "print(var_dic_list())"
    },
    "r": {
     "delete_cmd_postfix": ") ",
     "delete_cmd_prefix": "rm(",
     "library": "var_list.r",
     "varRefreshCmd": "cat(var_dic_list()) "
    }
   },
   "types_to_exclude": [
    "module",
    "function",
    "builtin_function_or_method",
    "instance",
    "_Feature"
   ],
   "window_display": false
  }
 },
 "nbformat": 4,
 "nbformat_minor": 2
}
